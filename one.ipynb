{
 "cells": [
  {
   "cell_type": "code",
   "execution_count": 2,
   "metadata": {},
   "outputs": [],
   "source": [
    "import numpy as np\n",
    "import pandas as pd\n",
    "import re"
   ]
  },
  {
   "cell_type": "code",
   "execution_count": 3,
   "metadata": {},
   "outputs": [],
   "source": [
    "# Reading xlsx file\n",
    "df = pd.ExcelFile('data (1).xlsx')\n",
    "\n",
    "output = df.parse('OUTPUT')\n",
    "fields = df.parse('Field key')"
   ]
  },
  {
   "cell_type": "markdown",
   "metadata": {},
   "source": []
  },
  {
   "cell_type": "code",
   "execution_count": 4,
   "metadata": {},
   "outputs": [],
   "source": [
    "# Remove the null rows\n",
    "fields = fields.dropna()"
   ]
  },
  {
   "cell_type": "code",
   "execution_count": 5,
   "metadata": {},
   "outputs": [],
   "source": [
    "# giving 3rd column a name\n",
    "fields.columns = ['Data Field', 'Hazard', 'Type']"
   ]
  },
  {
   "cell_type": "code",
   "execution_count": 6,
   "metadata": {},
   "outputs": [],
   "source": [
    "# test if we can get the matchingfield \n",
    "matching_dataField = fields.loc[fields['Type'].str.contains('Flam liquid')].reset_index().iloc[0, 1]"
   ]
  },
  {
   "cell_type": "code",
   "execution_count": 7,
   "metadata": {},
   "outputs": [
    {
     "data": {
      "text/plain": [
       "'southafrica_ghs-2.6_display'"
      ]
     },
     "execution_count": 7,
     "metadata": {},
     "output_type": "execute_result"
    }
   ],
   "source": [
    "matching_dataField"
   ]
  },
  {
   "cell_type": "code",
   "execution_count": null,
   "metadata": {},
   "outputs": [],
   "source": [
    "fields"
   ]
  },
  {
   "cell_type": "markdown",
   "metadata": {},
   "source": [
    "## Dealing with output now"
   ]
  },
  {
   "cell_type": "code",
   "execution_count": 25,
   "metadata": {},
   "outputs": [],
   "source": [
    "output = df.parse('OUTPUT')\n"
   ]
  },
  {
   "cell_type": "code",
   "execution_count": 26,
   "metadata": {},
   "outputs": [],
   "source": [
    "# dropping first row(example)\n",
    "output = output.drop(0).reset_index(drop=True)"
   ]
  },
  {
   "cell_type": "code",
   "execution_count": null,
   "metadata": {},
   "outputs": [],
   "source": [
    "output"
   ]
  },
  {
   "cell_type": "code",
   "execution_count": 29,
   "metadata": {},
   "outputs": [],
   "source": [
    "output['Hazard class'] = output['Hazard class'].str.replace('\\n', ' ')"
   ]
  },
  {
   "cell_type": "code",
   "execution_count": null,
   "metadata": {},
   "outputs": [],
   "source": [
    "mapping = []\n",
    "for i in range(output.shape[0]):\n",
    "    mapping.append([])\n",
    "    #checking for non null values\n",
    "    if output.loc[i, 'Hazard class'] != 'NaN':\n",
    "        #if not null then replace the value with the matching data field\n",
    "        try:\n",
    "            for hazard in output.loc[i, 'Hazard class'].split(','): \n",
    "                m = re.search(r'\\d', hazard)\n",
    "                if m:\n",
    "                    hazard_name = hazard[:m.start()].strip()\n",
    "                    matching_dataField = fields.loc[fields['Type'].str.contains(\n",
    "                        hazard_name, case = False, regex = True)].reset_index().iloc[0, 1]\n",
    "                    hazard_category = hazard[m.start():].strip()\n",
    "                    output.loc[i, matching_dataField] = \"Category \" + hazard_category\n",
    "                    \n",
    "                    mapping[i].append(hazard_name + \" : \" + matching_dataField)\n",
    "                else:\n",
    "                    hazard_name = hazard.strip()\n",
    "                    matching_dataField = fields.loc[fields['Type'].str.contains(hazard_name)].reset_index().iloc[0, 1]\n",
    "                    output.loc[i, matching_dataField] = \"Yes\"\n",
    "\n",
    "                    mapping[i].append(hazard_name + \" : \" + matching_dataField)\n",
    "        except:\n",
    "            pass\n",
    "            \n",
    "                \n"
   ]
  },
  {
   "cell_type": "code",
   "execution_count": 50,
   "metadata": {},
   "outputs": [],
   "source": [
    "output.to_excel('output.xlsx')\n",
    "    \n"
   ]
  },
  {
   "cell_type": "code",
   "execution_count": null,
   "metadata": {},
   "outputs": [],
   "source": [
    "print('\\n'.join(['\\t'.join([str(cell) for cell in row]) for row in mapping]))\n"
   ]
  },
  {
   "cell_type": "code",
   "execution_count": 56,
   "metadata": {},
   "outputs": [],
   "source": [
    "with open('checking.txt', 'w') as file:\n",
    "    i = 1\n",
    "    for row in mapping:\n",
    "        # Store the row number in the file\n",
    "        file.write(str(i) + ' : ')\n",
    "        file.write(' '.join([str(item) for item in row]))\n",
    "        file.write('\\n')\n",
    "        i += 1\n"
   ]
  },
  {
   "cell_type": "code",
   "execution_count": null,
   "metadata": {},
   "outputs": [],
   "source": []
  }
 ],
 "metadata": {
  "interpreter": {
   "hash": "19d1d53a962d236aa061289c2ac16dc8e6d9648c89fe79f459ae9a3493bc67b4"
  },
  "kernelspec": {
   "display_name": "Python 3.9.12 ('base')",
   "language": "python",
   "name": "python3"
  },
  "language_info": {
   "codemirror_mode": {
    "name": "ipython",
    "version": 3
   },
   "file_extension": ".py",
   "mimetype": "text/x-python",
   "name": "python",
   "nbconvert_exporter": "python",
   "pygments_lexer": "ipython3",
   "version": "3.9.12"
  },
  "orig_nbformat": 4
 },
 "nbformat": 4,
 "nbformat_minor": 2
}
